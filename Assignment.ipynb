{
  "nbformat": 4,
  "nbformat_minor": 0,
  "metadata": {
    "colab": {
      "provenance": []
    },
    "kernelspec": {
      "name": "python3",
      "display_name": "Python 3"
    },
    "language_info": {
      "name": "python"
    }
  },
  "cells": [
    {
      "cell_type": "markdown",
      "source": [],
      "metadata": {
        "id": "B1V2rm5g35ha"
      }
    },
    {
      "cell_type": "markdown",
      "source": [
        "# HTML Basics | Assignment"
      ],
      "metadata": {
        "id": "I8E4DXRJ4QcJ"
      }
    },
    {
      "cell_type": "markdown",
      "source": [
        "# Question 1 : Explain the basic structure of an HTML page. Why is it important to follow this structure?\n",
        "\n",
        "  ->  <!DOCTYPE html>: We start the file with `<!DOCTYPE html>`. It tells the   browser what type of document to\n",
        "  expect; in this case it is an HTML document.\n",
        "  # -\n",
        "  The `<DOCTYPE>` declaration represents the document type, and helps browsers to display web pages\n",
        "correctly.\n",
        "\n",
        "#-\n",
        "\n",
        " It must appear only once, at the top of the page(before HTML tag).\n",
        " The` <DOCTYPE> ` declaration is not case sensitive. We can write any of the following, it does not give any\n",
        "error.\n",
        "\n",
        "#-\n",
        "\n",
        " html lang=\"en\" : It's the language attribute and it tells the browser the default language. In this case\n",
        "english -en.\n",
        "\n",
        "\n",
        " `<head>`: This is the head section of the HTML document, which contains meta-information about the document,\n",
        "such as the title of the web page that appears in the browser's title bar or tab.\n",
        "#-\n",
        "\n",
        "` <title>`: This is the title tag, which sets the title of the web page. In this example, it's set to \"Hello, World!\".\n",
        "\n",
        "#-\n",
        "\n",
        "The `<title>` tag is like a label for a webpage. It should only have words, and it appears at the top of your web\n",
        "browser or on the tab of the page.\n",
        " We have to use the` <title>` tag in our webpage.\n",
        "\n",
        "#-\n",
        "\n",
        " ---> Importance\n",
        "\n",
        " Browser Compatibility: Ensures all browsers understand and render the page correctly.\n",
        "SEO & Accessibility: Proper structure helps search engines and assistive technologies.\n",
        "#-\n",
        "Maintainability: Well-structured code is easier to read, debug, and update.\n",
        "#-\n",
        "Performance: Helps the browser load and process content efficiently.\n",
        "#-\n",
        "Standard Compliance: Follows web standards, reducing errors and unexpected behavior.\n",
        "\n",
        "\n",
        "\n",
        "\n",
        "\n"
      ],
      "metadata": {
        "id": "mIQGKB3K46aV"
      }
    },
    {
      "cell_type": "markdown",
      "source": [
        "# Question 2: You’re building a small personal profile page. Which HTML tags will you use to highlight your name as a heading, describe yourself in a paragraph, and emphasize a key skill?\n",
        "\n",
        "# Answer -\n",
        "\n",
        "# Recommended HTML Tags:\n",
        "  **Recommended HTML Tags:**\n",
        "\n",
        "| Purpose                    | HTML Tag          |\n",
        "|----------------------------|-------------------|\n",
        "| Highlight name as a heading | `<h1>`            |\n",
        "| Describe yourself in a paragraph | `<p>`         |\n",
        "| Emphasize a key skill      | `<strong>` or `<em>` |\n",
        "\n"
      ],
      "metadata": {
        "id": "J25RWroF85Co"
      }
    },
    {
      "cell_type": "markdown",
      "source": [
        "# Question 3: Look at the code below. Can you find and fix the mistake?\n",
        "#<!-- This is an HTML comment\n",
        "`<h1>`Welcome to my website`</h1>`\n",
        "\n",
        "# Answer :\n",
        "\n",
        "  The mistake is that the HTML comment isn’t properly closed.\n",
        "\n",
        "      `<h1>`Welcome to my website`</h1>`\n"
      ],
      "metadata": {
        "id": "cf-bIYVP-6T2"
      }
    },
    {
      "cell_type": "markdown",
      "source": [
        "# Question 4: You’re creating a form that asks the user to enter their name, select their country from a list, and click a button to submit. Write the HTML code for this.\n",
        "\n",
        "# Answer\n",
        "   \n",
        "\n",
        "\n",
        "```\n",
        "# Th<!DOCTYPE html>\n",
        "<html lang=\"en\">\n",
        "<head>\n",
        "    <meta charset=\"UTF-8\">\n",
        "    <meta name=\"viewport\" content=\"width=device-width, initial-scale=1.0\">\n",
        "    <title>Document</title>\n",
        "</head>\n",
        "<body>\n",
        "    <form action=\"/submit\" method=\"post\">\n",
        "  <label for=\"name\">Name:</label><br>\n",
        "  <input type=\"text\" id=\"name\" name=\"name\" required><br><br>\n",
        "\n",
        "  <label for=\"country\">Country:</label><br>\n",
        "  <select id=\"country\" name=\"country\" required>\n",
        "    <option value=\"\">--Please choose an option--</option>\n",
        "    <option value=\"usa\">United States</option>\n",
        "    <option value=\"canada\">Canada</option>\n",
        "    <option value=\"uk\">United Kingdom</option>\n",
        "    <option value=\"australia\">Australia</option>\n",
        "    <option value=\"other\">Other</option>\n",
        "  </select><br><br>\n",
        "\n",
        "  <button type=\"submit\">Submit</button>\n",
        "</form>\n",
        "\n",
        "</body>\n",
        "```\n",
        "\n",
        "\n"
      ],
      "metadata": {
        "id": "7doSKcHB_sDy"
      }
    },
    {
      "cell_type": "markdown",
      "source": [
        "# Question 5: Write short HTML code to show your favorite fruits in a bulleted list and your top 3 programming languages in a numbered list.\n",
        "\n",
        "# Answer :\n",
        "\n",
        "      \n",
        "\n",
        "```\n",
        "#<!DOCTYPE html>\n",
        "<html>\n",
        "<head>\n",
        "    <title>Favorites</title>\n",
        "</head>\n",
        "<body>\n",
        "\n",
        "    <h2>My Favorite Fruits</h2>\n",
        "    <ul>\n",
        "        <li>Mango</li>\n",
        "        <li>Banana</li>\n",
        "        <li>Strawberry</li>\n",
        "    </ul>\n",
        "\n",
        "    <h2>My Top 3 Programming Languages</h2>\n",
        "    <ol>\n",
        "        <li>Python</li>\n",
        "        <li>JavaScript</li>\n",
        "        <li>C++</li>\n",
        "    </ol>\n",
        "\n",
        "</body>\n",
        "</html>\n",
        "```\n",
        "\n"
      ],
      "metadata": {
        "id": "uiuZuR_1A_dN"
      }
    },
    {
      "cell_type": "markdown",
      "source": [
        "# Question 6: Ravi wants to leave a note in his HTML file so that only other developers can see it, not the users on the website. How should he do this? Why are such notes useful?\n",
        "\n",
        "# Answer\n",
        "   \n",
        "   Ravi should use an HTML comment. The syntax is:\n",
        "\n",
        "    \n",
        "\n",
        "```\n",
        "<!-- This section is for the navigation menu -->\n",
        "<nav>\n",
        "  <!-- More navigation links will be added later -->\n",
        "</nav>\n",
        "\n",
        "```\n",
        "\n",
        "These comments are not visible to users in the browser, but developers can see them by viewing the page’s source code."
      ],
      "metadata": {
        "id": "IaUWhoXBBdhZ"
      }
    },
    {
      "cell_type": "markdown",
      "source": [
        "# Question 7: Here’s a form snippet. Can you spot the error and rewrite the correct version?\n",
        "\n",
        "\n",
        "```\n",
        "<form>\n",
        "<input name=\"email\">\n",
        "<select>\n",
        "<option>India</option>\n",
        "</select>\n",
        "<button>Send</buton>\n",
        "</form>\n",
        "```\n",
        "\n",
        "# Answer :\n",
        "\n",
        "     ❌ Errors in the code:\n",
        "The `<input>` tag is missing the type attribute (e.g., type=\"email\").\n",
        "\n",
        "The closing tag for` <button>` is incorrectly written as `</buton>` instead of `</button>.`\n",
        "\n",
        "For better accessibility and functionality, the `<select>` and `<input>` should have name attributes.\n",
        "\n",
        "It's good practice to use `<label>` elements too (optional but recommended).\n",
        "\n",
        "   Correct Code  \n",
        "\n",
        "```\n",
        "<form>\n",
        "  <label for=\"email\">Email:</label>\n",
        "  <input type=\"email\" id=\"email\" name=\"email\" required><br><br>\n",
        "\n",
        "  <label for=\"country\">Country:</label>\n",
        "  <select id=\"country\" name=\"country\" required>\n",
        "    <option value=\"india\">India</option>\n",
        "  </select><br><br>\n",
        "\n",
        "  <button type=\"submit\">Send</button>\n",
        "</form>\n",
        "\n",
        "```\n",
        "\n"
      ],
      "metadata": {
        "id": "Z0mZwiVzCBqJ"
      }
    },
    {
      "cell_type": "code",
      "source": [],
      "metadata": {
        "id": "A1FkR3yf-nvz"
      },
      "execution_count": null,
      "outputs": []
    },
    {
      "cell_type": "code",
      "source": [],
      "metadata": {
        "id": "c0XPtVwe72QY"
      },
      "execution_count": null,
      "outputs": []
    }
  ]
}